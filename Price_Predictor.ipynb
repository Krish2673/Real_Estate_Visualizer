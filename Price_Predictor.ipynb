{
 "cells": [
  {
   "cell_type": "code",
   "execution_count": null,
   "id": "fc3b413f",
   "metadata": {},
   "outputs": [],
   "source": [
    "import pandas as pd\n",
    "import numpy as np\n",
    "import matplotlib.pyplot as plt\n",
    "import seaborn as sns"
   ]
  },
  {
   "cell_type": "code",
   "execution_count": null,
   "id": "d287d437",
   "metadata": {},
   "outputs": [],
   "source": [
    "df = pd.read_csv(\"Makaan_Properties_Buy.csv\", encoding='ISO-8859-1')"
   ]
  },
  {
   "cell_type": "code",
   "execution_count": null,
   "id": "fb42711a",
   "metadata": {},
   "outputs": [],
   "source": [
    "df.head()"
   ]
  },
  {
   "cell_type": "code",
   "execution_count": null,
   "id": "d207ec03",
   "metadata": {},
   "outputs": [],
   "source": [
    "df.columns"
   ]
  },
  {
   "cell_type": "code",
   "execution_count": null,
   "id": "513ba771",
   "metadata": {},
   "outputs": [],
   "source": [
    "df.info()"
   ]
  },
  {
   "cell_type": "code",
   "execution_count": null,
   "id": "77a98dbb",
   "metadata": {},
   "outputs": [],
   "source": [
    "df.shape"
   ]
  },
  {
   "cell_type": "code",
   "execution_count": null,
   "id": "5cc69cae",
   "metadata": {},
   "outputs": [],
   "source": [
    "df.isnull().sum()"
   ]
  },
  {
   "cell_type": "code",
   "execution_count": null,
   "id": "46b4c89c",
   "metadata": {},
   "outputs": [],
   "source": [
    "df.describe()"
   ]
  },
  {
   "cell_type": "code",
   "execution_count": null,
   "id": "b75b8574",
   "metadata": {},
   "outputs": [],
   "source": [
    "df.isnull().sum().sort_values(ascending=False)"
   ]
  },
  {
   "cell_type": "code",
   "execution_count": null,
   "id": "d7b86c31",
   "metadata": {},
   "outputs": [],
   "source": [
    "df.drop(['Listing_Category','builder_id','Property_Name'], axis=1, inplace=True)"
   ]
  },
  {
   "cell_type": "code",
   "execution_count": null,
   "id": "72a4bffa",
   "metadata": {},
   "outputs": [],
   "source": [
    "df['Property_status'].fillna(df['Property_status'].mode()[0], inplace=True)\n",
    "df['Locality_Name'].fillna('Unknown', inplace=True)\n",
    "df['description'].fillna('No Description', inplace=True)\n",
    "df['Builder_name'].fillna('Unknown', inplace=True)"
   ]
  },
  {
   "cell_type": "code",
   "execution_count": null,
   "id": "83ac9ab5",
   "metadata": {},
   "outputs": [],
   "source": [
    "df.shape"
   ]
  },
  {
   "cell_type": "code",
   "execution_count": null,
   "id": "f3f705f8",
   "metadata": {},
   "outputs": [],
   "source": [
    "df['Builder_name'].isnull().sum()"
   ]
  },
  {
   "cell_type": "code",
   "execution_count": null,
   "id": "83d6bac8",
   "metadata": {},
   "outputs": [],
   "source": [
    "df['Price'] = df['Price'].str.replace(',', '').astype(float)"
   ]
  },
  {
   "cell_type": "code",
   "execution_count": null,
   "id": "6aa3557c",
   "metadata": {},
   "outputs": [],
   "source": [
    "df['Price']"
   ]
  },
  {
   "cell_type": "code",
   "execution_count": null,
   "id": "113219a7",
   "metadata": {},
   "outputs": [],
   "source": [
    "filtered_df = df[df['Price'] < df['Price'].quantile(0.99)]\n",
    "\n",
    "plt.figure(figsize=(10, 6))\n",
    "sns.histplot(filtered_df['Price'], kde=True, bins=50)\n",
    "plt.title(\"Distribution of Property Prices (Filtered)\")\n",
    "plt.xlabel(\"Price\")\n",
    "plt.ylabel(\"Frequency\")\n",
    "plt.show()"
   ]
  },
  {
   "cell_type": "code",
   "execution_count": null,
   "id": "fc172b8e",
   "metadata": {},
   "outputs": [],
   "source": [
    "plt.figure(figsize=(10, 6))\n",
    "sns.boxplot(x=filtered_df['Price'])\n",
    "plt.title('Boxplot of Property Prices (After Outlier Removal)')\n",
    "plt.xlabel('Price')\n",
    "plt.show()"
   ]
  },
  {
   "cell_type": "code",
   "execution_count": null,
   "id": "04e48e62",
   "metadata": {},
   "outputs": [],
   "source": [
    "categorical_cols = filtered_df.select_dtypes(include=['object', 'bool']).columns\n",
    "print(categorical_cols)"
   ]
  },
  {
   "cell_type": "code",
   "execution_count": null,
   "id": "9f509364",
   "metadata": {},
   "outputs": [],
   "source": [
    "for col in categorical_cols:\n",
    "    print(f\"\\nColumn: {col}\")\n",
    "    print(filtered_df[col].value_counts())"
   ]
  },
  {
   "cell_type": "code",
   "execution_count": null,
   "id": "7507abe6",
   "metadata": {},
   "outputs": [],
   "source": [
    "import seaborn as sns\n",
    "import matplotlib.pyplot as plt\n",
    "\n",
    "plt.figure(figsize=(10, 5))\n",
    "sns.countplot(data=filtered_df, x='Property_type', order=filtered_df['Property_type'].value_counts().index)\n",
    "plt.xticks(rotation=45)\n",
    "plt.title('Distribution of Property Type')\n",
    "plt.show()"
   ]
  },
  {
   "cell_type": "code",
   "execution_count": null,
   "id": "7f677ed8",
   "metadata": {},
   "outputs": [],
   "source": [
    "plt.figure(figsize=(8, 5))\n",
    "sns.boxplot(data=filtered_df, x='is_furnished', y='Price')\n",
    "plt.title('Furnishing vs. Price')\n",
    "plt.show()"
   ]
  },
  {
   "cell_type": "code",
   "execution_count": null,
   "id": "002d6ad4",
   "metadata": {},
   "outputs": [],
   "source": [
    "filtered_df.drop(['Project_URL','description'],axis=1,inplace=True)"
   ]
  },
  {
   "cell_type": "code",
   "execution_count": null,
   "id": "d1ad3729",
   "metadata": {},
   "outputs": [],
   "source": [
    "filtered_df.select_dtypes(include='object').nunique().sort_values(ascending=False)"
   ]
  },
  {
   "cell_type": "code",
   "execution_count": null,
   "id": "5e66edd8",
   "metadata": {},
   "outputs": [],
   "source": [
    "filtered_df['Price_per_unit_area']"
   ]
  },
  {
   "cell_type": "code",
   "execution_count": null,
   "id": "958f0446",
   "metadata": {},
   "outputs": [],
   "source": [
    "filtered_df['Price_per_unit_area'] = filtered_df['Price_per_unit_area'].str.replace(',', '').astype(float)"
   ]
  },
  {
   "cell_type": "code",
   "execution_count": null,
   "id": "c9c862d6",
   "metadata": {},
   "outputs": [],
   "source": [
    "filtered_df['Builder_name'].value_counts().head(10)"
   ]
  },
  {
   "cell_type": "code",
   "execution_count": null,
   "id": "6499d304",
   "metadata": {},
   "outputs": [],
   "source": [
    "sns.countplot(y=filtered_df['Property_type'], order=filtered_df['Property_type'].value_counts().index)"
   ]
  },
  {
   "cell_type": "code",
   "execution_count": null,
   "id": "24450233",
   "metadata": {},
   "outputs": [],
   "source": [
    "corr = filtered_df.corr(numeric_only=True)\n",
    "plt.figure(figsize=(12,8))\n",
    "sns.heatmap(corr, annot=True, cmap='coolwarm', fmt=\".2f\")"
   ]
  },
  {
   "cell_type": "code",
   "execution_count": null,
   "id": "8ddc76a7",
   "metadata": {},
   "outputs": [],
   "source": [
    "sns.scatterplot(data=filtered_df, x='Longitude', y='Latitude', hue='Price', palette='viridis', alpha=0.6)"
   ]
  },
  {
   "cell_type": "code",
   "execution_count": null,
   "id": "29bb6079",
   "metadata": {},
   "outputs": [],
   "source": [
    "filtered_df = filtered_df[\n",
    "    (filtered_df['Longitude'].between(68, 97)) &  # India longitudes roughly 68–97°E\n",
    "    (filtered_df['Latitude'] .between(6, 37))     # India latitudes roughly 6–37°N\n",
    "].reset_index(drop=True)"
   ]
  },
  {
   "cell_type": "code",
   "execution_count": null,
   "id": "73c5cdd5",
   "metadata": {},
   "outputs": [],
   "source": [
    "sns.scatterplot(data=filtered_df, x='Longitude', y='Latitude', hue='Price', palette='viridis', alpha=0.6)"
   ]
  },
  {
   "cell_type": "code",
   "execution_count": null,
   "id": "7df85cfb",
   "metadata": {},
   "outputs": [],
   "source": [
    "filtered_df[['Size', 'Price', 'Price_per_unit_area']].hist(figsize=(12, 5))"
   ]
  },
  {
   "cell_type": "code",
   "execution_count": null,
   "id": "3223a60f",
   "metadata": {},
   "outputs": [],
   "source": [
    "filtered_df['No_of_BHK']"
   ]
  },
  {
   "cell_type": "code",
   "execution_count": null,
   "id": "a29ac717",
   "metadata": {},
   "outputs": [],
   "source": [
    "filtered_df['No_of_BHK'] = filtered_df['No_of_BHK'].str.extract('(\\d+)').astype(float)"
   ]
  },
  {
   "cell_type": "code",
   "execution_count": null,
   "id": "bdfae59a",
   "metadata": {},
   "outputs": [],
   "source": [
    "filtered_df['Size']"
   ]
  },
  {
   "cell_type": "code",
   "execution_count": null,
   "id": "ac8a4ead",
   "metadata": {},
   "outputs": [],
   "source": [
    "filtered_df['Size'] = filtered_df['Size'].str.replace(',', '').str.extract('(\\d+)').astype(float)"
   ]
  },
  {
   "cell_type": "code",
   "execution_count": null,
   "id": "fb0ea407",
   "metadata": {},
   "outputs": [],
   "source": [
    "filtered_df['Posted_On']"
   ]
  },
  {
   "cell_type": "code",
   "execution_count": null,
   "id": "b81f541f",
   "metadata": {},
   "outputs": [],
   "source": [
    "def convert_posted_on(value):\n",
    "    try:\n",
    "        num, unit, *_ = value.split()\n",
    "        num = int(num)\n",
    "        if 'day' in unit:\n",
    "            return num\n",
    "        elif 'week' in unit:\n",
    "            return num * 7\n",
    "        elif 'month' in unit:\n",
    "            return num * 30\n",
    "        elif 'year' in unit:\n",
    "            return num * 365\n",
    "    except:\n",
    "        return np.nan\n",
    "\n",
    "filtered_df['Posted_days_ago'] = filtered_df['Posted_On'].apply(convert_posted_on)\n"
   ]
  },
  {
   "cell_type": "code",
   "execution_count": null,
   "id": "c0c55fef",
   "metadata": {},
   "outputs": [],
   "source": [
    "filtered_df.drop('Posted_On', axis=1, inplace=True)"
   ]
  },
  {
   "cell_type": "code",
   "execution_count": null,
   "id": "0bca35ff",
   "metadata": {},
   "outputs": [],
   "source": [
    "filtered_df['Posted_days_ago']"
   ]
  },
  {
   "cell_type": "code",
   "execution_count": null,
   "id": "ada79572",
   "metadata": {},
   "outputs": [],
   "source": [
    "categorical_cols = filtered_df.select_dtypes(include=['object', 'bool']).columns\n",
    "print(categorical_cols)"
   ]
  },
  {
   "cell_type": "code",
   "execution_count": null,
   "id": "f3930420",
   "metadata": {},
   "outputs": [],
   "source": [
    "filtered_df.select_dtypes(include='object').nunique().sort_values(ascending=False)"
   ]
  },
  {
   "cell_type": "code",
   "execution_count": null,
   "id": "b597ab5a",
   "metadata": {},
   "outputs": [],
   "source": [
    "features = ['City_name', 'Property_type', 'Property_status', 'Sub_urban_name',\n",
    "            'is_furnished', 'is_ready_to_move', 'No_of_BHK', 'Size', 'Latitude',\n",
    "                'Longitude','Price_per_unit_area']\n",
    "target = 'Price'"
   ]
  },
  {
   "cell_type": "code",
   "execution_count": null,
   "id": "edcc0f16",
   "metadata": {},
   "outputs": [],
   "source": [
    "filtered_df['No_of_BHK'] = filtered_df['No_of_BHK'].astype(int)\n",
    "filtered_df['No_of_BHK'] = filtered_df['No_of_BHK'].astype(str)"
   ]
  },
  {
   "cell_type": "code",
   "execution_count": null,
   "id": "4b7a5046",
   "metadata": {},
   "outputs": [],
   "source": [
    "from sklearn.model_selection import train_test_split\n",
    "from sklearn.metrics import mean_absolute_error, mean_squared_error, r2_score\n",
    "import numpy as np\n",
    "\n",
    "X = filtered_df[features]\n",
    "y = filtered_df[target]\n",
    "\n",
    "cat_features = ['City_name', 'Property_type', 'Property_status', 'Sub_urban_name',\n",
    "                'is_furnished', 'is_ready_to_move', 'No_of_BHK']\n",
    "\n",
    "X_train, X_test, y_train, y_test = train_test_split(X, y, test_size=0.2, random_state=42)"
   ]
  },
  {
   "cell_type": "code",
   "execution_count": null,
   "id": "3fb1f173",
   "metadata": {},
   "outputs": [],
   "source": [
    "column_indices = {name: idx for idx, name in enumerate(X_train.columns)}\n",
    "print(\"Column Index Map:\", column_indices)\n",
    "\n",
    "print(\"cat_features resolved indices:\", [column_indices[c] for c in cat_features])"
   ]
  },
  {
   "cell_type": "code",
   "execution_count": null,
   "id": "a332ea35",
   "metadata": {},
   "outputs": [],
   "source": [
    "from catboost import CatBoostRegressor\n",
    "\n",
    "model = CatBoostRegressor(\n",
    "    iterations=1000,\n",
    "    depth=8,\n",
    "    learning_rate=0.1,\n",
    "    loss_function='RMSE',\n",
    "    cat_features=cat_features,\n",
    "    verbose=100,\n",
    "    random_state=42\n",
    ")\n",
    "\n",
    "model.fit(X_train, y_train)"
   ]
  },
  {
   "cell_type": "code",
   "execution_count": null,
   "id": "194dc3c0",
   "metadata": {},
   "outputs": [],
   "source": [
    "y_pred = model.predict(X_test)"
   ]
  },
  {
   "cell_type": "code",
   "execution_count": null,
   "id": "5eadf6fd",
   "metadata": {},
   "outputs": [],
   "source": [
    "mae = mean_absolute_error(y_test, y_pred)\n",
    "rmse = np.sqrt(mean_squared_error(y_test, y_pred))\n",
    "r2 = r2_score(y_test, y_pred)\n",
    "\n",
    "print(f\"MAE: ₹{mae:,.2f}\")\n",
    "print(f\"RMSE: ₹{rmse:,.2f}\")\n",
    "print(f\"R² Score: {r2:.4f}\")"
   ]
  },
  {
   "cell_type": "code",
   "execution_count": null,
   "id": "709393d6",
   "metadata": {},
   "outputs": [],
   "source": [
    "def mean_absolute_percentage_error(y_true, y_pred):\n",
    "    return np.mean(np.abs((y_true - y_pred) / y_true)) * 100\n",
    "\n",
    "mape = mean_absolute_percentage_error(y_test, y_pred)\n",
    "print(f\"MAPE: {mape:.2f}%\")"
   ]
  },
  {
   "cell_type": "code",
   "execution_count": null,
   "id": "fc47df75",
   "metadata": {},
   "outputs": [],
   "source": [
    "from sklearn.metrics import median_absolute_error\n",
    "\n",
    "medae = median_absolute_error(y_test, y_pred)\n",
    "print(f\"Median AE: ₹{medae:,.2f}\")"
   ]
  },
  {
   "cell_type": "code",
   "execution_count": null,
   "id": "3d56b6ea",
   "metadata": {},
   "outputs": [],
   "source": [
    "tolerance = 0.2  \n",
    "within_range = np.mean(np.abs((y_test - y_pred) / y_test) <= tolerance)\n",
    "print(f\"Within 20% range: {within_range*100:.2f}%\")"
   ]
  },
  {
   "cell_type": "code",
   "execution_count": null,
   "id": "734e489c",
   "metadata": {},
   "outputs": [],
   "source": [
    "import matplotlib.pyplot as plt\n",
    "\n",
    "plt.figure(figsize=(8,6))\n",
    "plt.scatter(y_test, y_pred, alpha=0.5, color='teal')\n",
    "plt.plot([y_test.min(), y_test.max()], [y_test.min(), y_test.max()], 'r--') \n",
    "plt.xlabel(\"Actual Price\")\n",
    "plt.ylabel(\"Predicted Price\")\n",
    "plt.title(\"Actual vs Predicted Prices\")\n",
    "plt.grid(True)\n",
    "plt.tight_layout()\n",
    "plt.show()\n"
   ]
  },
  {
   "cell_type": "code",
   "execution_count": null,
   "id": "27b6d0e9",
   "metadata": {},
   "outputs": [],
   "source": [
    "residuals = y_test - y_pred\n",
    "plt.figure(figsize=(8,6))\n",
    "plt.scatter(y_pred, residuals, alpha=0.4)\n",
    "plt.axhline(0, color='red', linestyle='--')\n",
    "plt.xlabel(\"Predicted Price\")\n",
    "plt.ylabel(\"Residuals\")\n",
    "plt.title(\"Residuals vs Predicted\")\n",
    "plt.grid(True)\n",
    "plt.show()"
   ]
  },
  {
   "cell_type": "code",
   "execution_count": null,
   "id": "d336bea0",
   "metadata": {},
   "outputs": [],
   "source": [
    "import seaborn as sns\n",
    "import matplotlib.pyplot as plt\n",
    "\n",
    "corr = filtered_df[['Price', 'Size', 'Price_per_unit_area']].corr()\n",
    "sns.heatmap(corr, annot=True, cmap='coolwarm')\n",
    "plt.title(\"Correlation Heatmap\")\n",
    "plt.show()"
   ]
  },
  {
   "cell_type": "code",
   "execution_count": null,
   "id": "6ea6db6b",
   "metadata": {},
   "outputs": [],
   "source": [
    "import pandas as pd\n",
    "\n",
    "clean_df = filtered_df[['Size', 'Price']].copy()\n",
    "clean_df = clean_df[pd.to_numeric(clean_df['Size'], errors='coerce').notna()]\n",
    "clean_df = clean_df[clean_df['Price'].notna()]\n",
    "\n",
    "clean_df['Size'] = clean_df['Size'].astype(float)\n",
    "\n",
    "grouped = clean_df.groupby('Size')['Price'].mean().reset_index()\n",
    "grouped = grouped.sort_values('Size')\n",
    "\n",
    "grouped.to_json('price_vs_size.json', orient='records', indent=2)"
   ]
  },
  {
   "cell_type": "code",
   "execution_count": null,
   "id": "ed8a2eb2",
   "metadata": {},
   "outputs": [],
   "source": [
    "filtered_df['Price_per_unit_area']"
   ]
  },
  {
   "cell_type": "code",
   "execution_count": null,
   "id": "2a234683",
   "metadata": {},
   "outputs": [],
   "source": [
    "import json\n",
    "avg_price_map = (\n",
    "    filtered_df.groupby('Sub_urban_name')['Price_per_unit_area']\n",
    "    .mean()\n",
    "    .round(2)\n",
    "    .dropna()\n",
    "    .to_dict()\n",
    ")\n",
    "\n",
    "with open('avg_price_per_area.json', 'w') as f:\n",
    "    json.dump(avg_price_map, f, indent=2)\n",
    "\n",
    "print(\"avg_price_per_area.json created ✅\")"
   ]
  },
  {
   "cell_type": "code",
   "execution_count": null,
   "id": "cc54d401",
   "metadata": {},
   "outputs": [],
   "source": [
    "model.save_model(\"catboost_model.cbm\")"
   ]
  },
  {
   "cell_type": "code",
   "execution_count": null,
   "id": "27283407",
   "metadata": {},
   "outputs": [],
   "source": [
    "filtered_df.columns"
   ]
  },
  {
   "cell_type": "code",
   "execution_count": null,
   "id": "f48231ee",
   "metadata": {},
   "outputs": [],
   "source": [
    "compare_cols = [\n",
    "    'Size', 'Price', 'Price_per_unit_area', 'No_of_BHK',\n",
    "    'City_name', 'Property_type', 'Property_status',\n",
    "    'is_furnished', 'is_ready_to_move'\n",
    "]\n",
    "\n",
    "compare_df = filtered_df[compare_cols].dropna()\n",
    "\n",
    "compare_df['No_of_BHK'] = compare_df['No_of_BHK'].astype(str).str.extract(r'(\\d+)').astype(float)\n",
    "\n",
    "compare_df.to_json('compare_data.json', orient='records')"
   ]
  },
  {
   "cell_type": "code",
   "execution_count": null,
   "id": "17fc8013",
   "metadata": {},
   "outputs": [],
   "source": [
    "explorer_cols = [\n",
    "    'Property_id', 'City_id', 'City_name', 'Locality_ID', 'Locality_Name',\n",
    "    'Sub_urban_ID', 'Sub_urban_name', 'Size', 'Price', 'No_of_BHK',\n",
    "    'Property_type', 'Property_status', 'is_furnished', 'is_ready_to_move'\n",
    "]\n",
    "\n",
    "filtered_df[explorer_cols].to_json('explorer_data.json', orient='records')"
   ]
  },
  {
   "cell_type": "code",
   "execution_count": null,
   "id": "281621ec",
   "metadata": {},
   "outputs": [],
   "source": [
    "form_options = {\n",
    "    'City_name': sorted(filtered_df['City_name'].dropna().unique().tolist()),\n",
    "    'Property_type': sorted(filtered_df['Property_type'].dropna().unique().tolist()),\n",
    "    'Property_status': sorted(filtered_df['Property_status'].dropna().unique().tolist()),\n",
    "    'is_furnished': sorted(filtered_df['is_furnished'].dropna().unique().tolist()),\n",
    "    'Sub_urban_name': sorted(filtered_df['Sub_urban_name'].dropna().unique().tolist())\n",
    "}\n",
    "\n",
    "import json\n",
    "with open('form_options.json', 'w') as f:\n",
    "    json.dump(form_options, f, indent=2)"
   ]
  },
  {
   "cell_type": "code",
   "execution_count": null,
   "id": "42cc30a8",
   "metadata": {},
   "outputs": [],
   "source": [
    "map_cols = [\n",
    "    'Property_id', 'Price', 'City_name', 'Property_type',\n",
    "    'Locality_Name', 'Latitude', 'Longitude'\n",
    "]\n",
    "\n",
    "filtered_df[map_cols].dropna(subset=['Latitude', 'Longitude']).to_json('map_data.json', orient='records')"
   ]
  },
  {
   "cell_type": "code",
   "execution_count": null,
   "id": "f8b0e5f6",
   "metadata": {},
   "outputs": [],
   "source": [
    "price_by_type = (\n",
    "    filtered_df.groupby('Property_type')['Price']\n",
    "    .mean()\n",
    "    .reset_index()\n",
    "    .rename(columns={'Property_type': 'Property_type', 'Price': 'Price'})\n",
    "    .to_dict(orient='records')\n",
    ")\n",
    "\n",
    "with open('price_by_type.json', 'w') as f:\n",
    "    json.dump(price_by_type, f, indent=2)"
   ]
  },
  {
   "cell_type": "code",
   "execution_count": null,
   "id": "302840a9",
   "metadata": {},
   "outputs": [],
   "source": [
    "bins = pd.cut(filtered_df['Size'], bins=15)\n",
    "grouped = filtered_df.groupby(bins)['Price'].mean().reset_index()\n",
    "\n",
    "price_vs_size = []\n",
    "for row in grouped.itertuples(index=False):\n",
    "    bin_mid = row[0].mid if hasattr(row[0], 'mid') else (row[0].left + row[0].right) / 2\n",
    "    price_vs_size.append({\n",
    "        'Size': round(bin_mid, 2),\n",
    "        'Price': round(row[1], 2)\n",
    "    })\n",
    "\n",
    "with open('price_vs_size.json', 'w') as f:\n",
    "    json.dump(price_vs_size, f, indent=2)"
   ]
  },
  {
   "cell_type": "code",
   "execution_count": null,
   "id": "86618b0c",
   "metadata": {},
   "outputs": [],
   "source": [
    "top_builders = (\n",
    "    filtered_df[filtered_df['Builder_name'].notna()]\n",
    "    .groupby('Builder_name')['Price']\n",
    "    .mean()\n",
    "    .sort_values(ascending=False)\n",
    "    .head(10)\n",
    "    .reset_index()\n",
    "    .rename(columns={'Price': 'Price'})\n",
    "    .to_dict(orient='records')\n",
    ")\n",
    "\n",
    "with open('top_builders.json', 'w') as f:\n",
    "    json.dump(top_builders, f, indent=2)"
   ]
  },
  {
   "cell_type": "code",
   "execution_count": null,
   "id": "38bb4e9f",
   "metadata": {},
   "outputs": [],
   "source": [
    "suburb_coords = (\n",
    "    filtered_df[['Sub_urban_name', 'Latitude', 'Longitude']]\n",
    "    .dropna()\n",
    "    .drop_duplicates(subset='Sub_urban_name')\n",
    "    .set_index('Sub_urban_name')\n",
    "    .to_dict(orient='index')\n",
    ")\n",
    "\n",
    "with open('suburban_map.json', 'w') as f:\n",
    "    json.dump(suburb_coords, f, indent=2)"
   ]
  },
  {
   "cell_type": "code",
   "execution_count": null,
   "id": "8de09d33",
   "metadata": {},
   "outputs": [],
   "source": [
    "df = df.dropna(subset=[\"City_name\", \"Sub_urban_name\"])\n",
    "\n",
    "suburbs_by_city = {}\n",
    "\n",
    "for city in sorted(df[\"City_name\"].unique()):\n",
    "    suburbs = (\n",
    "        df[df[\"City_name\"] == city][\"Sub_urban_name\"]\n",
    "        .dropna()\n",
    "        .unique()\n",
    "        .tolist()\n",
    "    )\n",
    "    suburbs_by_city[city] = sorted(suburbs)\n",
    "\n",
    "with open(\"suburbs_by_city.json\", \"w\") as f:\n",
    "    json.dump(suburbs_by_city, f, indent=2)"
   ]
  }
 ],
 "metadata": {
  "kernelspec": {
   "display_name": "base",
   "language": "python",
   "name": "python3"
  },
  "language_info": {
   "codemirror_mode": {
    "name": "ipython",
    "version": 3
   },
   "file_extension": ".py",
   "mimetype": "text/x-python",
   "name": "python",
   "nbconvert_exporter": "python",
   "pygments_lexer": "ipython3",
   "version": "3.12.7"
  }
 },
 "nbformat": 4,
 "nbformat_minor": 5
}
